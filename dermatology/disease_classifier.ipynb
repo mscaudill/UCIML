{
 "cells": [
  {
   "cell_type": "markdown",
   "metadata": {},
   "source": [
    "# Dermatology Disease Classification"
   ]
  },
  {
   "cell_type": "markdown",
   "metadata": {},
   "source": [
    "## Objectives"
   ]
  },
  {
   "cell_type": "markdown",
   "metadata": {},
   "source": [
    "The UCI Dermatology disease dataset contains clinical and histological factors"
   ]
  },
  {
   "cell_type": "markdown",
   "metadata": {},
   "source": [
    "- [Request Data From UCI Repository & Format to Dataframe](Request-Data-From-UCI-Repository-&-Format)\n",
    "- [Clean and Prepare Data](Clean-and-Prepare-Data)\n",
    "- [Get Predictors and Response Class](Get-Predictors-and-Response-Class)\n",
    "- [Perform Linear Discriminant Analysis and Cross Validate](Perform-Linear-Discriminant-Analysis-and-Cross-Validate)\n",
    "- [LDA Results](LDA-Results)\n",
    "- [Project Clinical Data onto Largest LDA Components](Project-Clinical-Data-onto-Largest-LDA-Components)"
   ]
  },
  {
   "cell_type": "code",
   "execution_count": 123,
   "metadata": {
    "collapsed": false
   },
   "outputs": [],
   "source": [
    "import glob\n",
    "import requests\n",
    "import re\n",
    "\n",
    "import pandas as pd\n",
    "import numpy as np\n",
    "import matplotlib.pyplot as plt\n",
    "\n",
    "\n",
    "from io import StringIO\n",
    "from operator import itemgetter\n",
    "from sklearn.discriminant_analysis import LinearDiscriminantAnalysis\n",
    "from sklearn.cross_validation import cross_val_score\n",
    "from mpl_toolkits.mplot3d import Axes3D\n",
    "\n",
    "%matplotlib inline\n",
    "plt.style.use('ggplot')"
   ]
  },
  {
   "cell_type": "markdown",
   "metadata": {},
   "source": [
    "## Request Data From UCI Repository & Format"
   ]
  },
  {
   "cell_type": "code",
   "execution_count": 2,
   "metadata": {
    "collapsed": false,
    "scrolled": true
   },
   "outputs": [
    {
     "name": "stdout",
     "output_type": "stream",
     "text": [
      "Data read from disk\n"
     ]
    }
   ],
   "source": [
    "if glob.glob('data/data.txt') and glob.glob('data/description.txt'):\n",
    "    print('Data read from disk')\n",
    "    # read in data to pandas df\n",
    "    df = pd.read_csv('data/data.txt', na_values='?')\n",
    "    # read in the description string\n",
    "    with open('data/description.txt', 'r') as outfile:\n",
    "            desc_str = outfile.read()\n",
    "    \n",
    "else:\n",
    "    print('Data Requested From UCI')\n",
    "    data_url = 'http://archive.ics.uci.edu/ml/machine-learning-databases/dermatology/' + \\\n",
    "               'dermatology.data'\n",
    "    desc_url = 'http://archive.ics.uci.edu/ml/machine-learning-databases/dermatology/' + \\\n",
    "                'dermatology.names'\n",
    "\n",
    "    data_response = requests.get(data_url)\n",
    "    desc_response = requests.get(desc_url)\n",
    "                       \n",
    "    if data_response.status_code and desc_response.status_code == 200:  \n",
    "        \n",
    "        # write the description file to data directory\n",
    "        with open('data/description.txt', 'w') as outfile:\n",
    "            outfile.write(desc_response.text)\n",
    "           \n",
    "        desc_str = desc_response.text\n",
    "        # regex extract pattern ['int': attribute]\n",
    "        predictor_tuples = re.findall('(\\d+): ([\\w -]+)', desc_str)\n",
    "        # convert attribute string -> int and subs '_' for white spaces or hyphens\n",
    "        predictors_tuples = [(int(tup[0]), re.sub('[\\s-]', '_', tup[1].strip())) \n",
    "                      for tup in predictor_tuples]\n",
    "        # sort the predictors by the attribute number\n",
    "        predictors = sorted(predictors_tuples, key=itemgetter(0))\n",
    "        # last feature is the response 'Disease' Class\n",
    "        attributes = [p[1] for p in predictors]+['Disease']\n",
    "        #use string IO to read in data to dataframe\n",
    "        data = StringIO(data_response.text)\n",
    "        df = pd.read_csv(data, header=None, names=attributes)\n",
    "        \n",
    "        # write the dataframe to a csv 'data/data.txt'\n",
    "        df.to_csv('data/data.txt', index_label=False)"
   ]
  },
  {
   "cell_type": "code",
   "execution_count": 3,
   "metadata": {
    "collapsed": false
   },
   "outputs": [
    {
     "data": {
      "text/html": [
       "<div>\n",
       "<table border=\"1\" class=\"dataframe\">\n",
       "  <thead>\n",
       "    <tr style=\"text-align: right;\">\n",
       "      <th></th>\n",
       "      <th>erythema</th>\n",
       "      <th>scaling</th>\n",
       "      <th>definite_borders</th>\n",
       "      <th>itching</th>\n",
       "      <th>koebner_phenomenon</th>\n",
       "      <th>polygonal_papules</th>\n",
       "      <th>follicular_papules</th>\n",
       "      <th>oral_mucosal_involvement</th>\n",
       "      <th>knee_and_elbow_involvement</th>\n",
       "      <th>scalp_involvement</th>\n",
       "      <th>...</th>\n",
       "      <th>disappearance_of_the_granular_layer</th>\n",
       "      <th>vacuolisation_and_damage_of_basal_layer</th>\n",
       "      <th>spongiosis</th>\n",
       "      <th>saw_tooth_appearance_of_retes</th>\n",
       "      <th>follicular_horn_plug</th>\n",
       "      <th>perifollicular_parakeratosis</th>\n",
       "      <th>inflammatory_monoluclear_inflitrate</th>\n",
       "      <th>band_like_infiltrate</th>\n",
       "      <th>Age</th>\n",
       "      <th>Disease</th>\n",
       "    </tr>\n",
       "  </thead>\n",
       "  <tbody>\n",
       "    <tr>\n",
       "      <th>0</th>\n",
       "      <td>2</td>\n",
       "      <td>2</td>\n",
       "      <td>0</td>\n",
       "      <td>3</td>\n",
       "      <td>0</td>\n",
       "      <td>0</td>\n",
       "      <td>0</td>\n",
       "      <td>0</td>\n",
       "      <td>1</td>\n",
       "      <td>0</td>\n",
       "      <td>...</td>\n",
       "      <td>0</td>\n",
       "      <td>0</td>\n",
       "      <td>3</td>\n",
       "      <td>0</td>\n",
       "      <td>0</td>\n",
       "      <td>0</td>\n",
       "      <td>1</td>\n",
       "      <td>0</td>\n",
       "      <td>55.0</td>\n",
       "      <td>2</td>\n",
       "    </tr>\n",
       "    <tr>\n",
       "      <th>1</th>\n",
       "      <td>3</td>\n",
       "      <td>3</td>\n",
       "      <td>3</td>\n",
       "      <td>2</td>\n",
       "      <td>1</td>\n",
       "      <td>0</td>\n",
       "      <td>0</td>\n",
       "      <td>0</td>\n",
       "      <td>1</td>\n",
       "      <td>1</td>\n",
       "      <td>...</td>\n",
       "      <td>0</td>\n",
       "      <td>0</td>\n",
       "      <td>0</td>\n",
       "      <td>0</td>\n",
       "      <td>0</td>\n",
       "      <td>0</td>\n",
       "      <td>1</td>\n",
       "      <td>0</td>\n",
       "      <td>8.0</td>\n",
       "      <td>1</td>\n",
       "    </tr>\n",
       "    <tr>\n",
       "      <th>2</th>\n",
       "      <td>2</td>\n",
       "      <td>1</td>\n",
       "      <td>2</td>\n",
       "      <td>3</td>\n",
       "      <td>1</td>\n",
       "      <td>3</td>\n",
       "      <td>0</td>\n",
       "      <td>3</td>\n",
       "      <td>0</td>\n",
       "      <td>0</td>\n",
       "      <td>...</td>\n",
       "      <td>0</td>\n",
       "      <td>2</td>\n",
       "      <td>3</td>\n",
       "      <td>2</td>\n",
       "      <td>0</td>\n",
       "      <td>0</td>\n",
       "      <td>2</td>\n",
       "      <td>3</td>\n",
       "      <td>26.0</td>\n",
       "      <td>3</td>\n",
       "    </tr>\n",
       "    <tr>\n",
       "      <th>3</th>\n",
       "      <td>2</td>\n",
       "      <td>2</td>\n",
       "      <td>2</td>\n",
       "      <td>0</td>\n",
       "      <td>0</td>\n",
       "      <td>0</td>\n",
       "      <td>0</td>\n",
       "      <td>0</td>\n",
       "      <td>3</td>\n",
       "      <td>2</td>\n",
       "      <td>...</td>\n",
       "      <td>3</td>\n",
       "      <td>0</td>\n",
       "      <td>0</td>\n",
       "      <td>0</td>\n",
       "      <td>0</td>\n",
       "      <td>0</td>\n",
       "      <td>3</td>\n",
       "      <td>0</td>\n",
       "      <td>40.0</td>\n",
       "      <td>1</td>\n",
       "    </tr>\n",
       "    <tr>\n",
       "      <th>4</th>\n",
       "      <td>2</td>\n",
       "      <td>3</td>\n",
       "      <td>2</td>\n",
       "      <td>2</td>\n",
       "      <td>2</td>\n",
       "      <td>2</td>\n",
       "      <td>0</td>\n",
       "      <td>2</td>\n",
       "      <td>0</td>\n",
       "      <td>0</td>\n",
       "      <td>...</td>\n",
       "      <td>2</td>\n",
       "      <td>3</td>\n",
       "      <td>2</td>\n",
       "      <td>3</td>\n",
       "      <td>0</td>\n",
       "      <td>0</td>\n",
       "      <td>2</td>\n",
       "      <td>3</td>\n",
       "      <td>45.0</td>\n",
       "      <td>3</td>\n",
       "    </tr>\n",
       "  </tbody>\n",
       "</table>\n",
       "<p>5 rows × 35 columns</p>\n",
       "</div>"
      ],
      "text/plain": [
       "   erythema  scaling  definite_borders  itching  koebner_phenomenon  \\\n",
       "0         2        2                 0        3                   0   \n",
       "1         3        3                 3        2                   1   \n",
       "2         2        1                 2        3                   1   \n",
       "3         2        2                 2        0                   0   \n",
       "4         2        3                 2        2                   2   \n",
       "\n",
       "   polygonal_papules  follicular_papules  oral_mucosal_involvement  \\\n",
       "0                  0                   0                         0   \n",
       "1                  0                   0                         0   \n",
       "2                  3                   0                         3   \n",
       "3                  0                   0                         0   \n",
       "4                  2                   0                         2   \n",
       "\n",
       "   knee_and_elbow_involvement  scalp_involvement   ...     \\\n",
       "0                           1                  0   ...      \n",
       "1                           1                  1   ...      \n",
       "2                           0                  0   ...      \n",
       "3                           3                  2   ...      \n",
       "4                           0                  0   ...      \n",
       "\n",
       "   disappearance_of_the_granular_layer  \\\n",
       "0                                    0   \n",
       "1                                    0   \n",
       "2                                    0   \n",
       "3                                    3   \n",
       "4                                    2   \n",
       "\n",
       "   vacuolisation_and_damage_of_basal_layer  spongiosis  \\\n",
       "0                                        0           3   \n",
       "1                                        0           0   \n",
       "2                                        2           3   \n",
       "3                                        0           0   \n",
       "4                                        3           2   \n",
       "\n",
       "   saw_tooth_appearance_of_retes  follicular_horn_plug  \\\n",
       "0                              0                     0   \n",
       "1                              0                     0   \n",
       "2                              2                     0   \n",
       "3                              0                     0   \n",
       "4                              3                     0   \n",
       "\n",
       "   perifollicular_parakeratosis  inflammatory_monoluclear_inflitrate  \\\n",
       "0                             0                                    1   \n",
       "1                             0                                    1   \n",
       "2                             0                                    2   \n",
       "3                             0                                    3   \n",
       "4                             0                                    2   \n",
       "\n",
       "   band_like_infiltrate   Age  Disease  \n",
       "0                     0  55.0        2  \n",
       "1                     0   8.0        1  \n",
       "2                     3  26.0        3  \n",
       "3                     0  40.0        1  \n",
       "4                     3  45.0        3  \n",
       "\n",
       "[5 rows x 35 columns]"
      ]
     },
     "execution_count": 3,
     "metadata": {},
     "output_type": "execute_result"
    }
   ],
   "source": [
    "df.head()"
   ]
  },
  {
   "cell_type": "markdown",
   "metadata": {},
   "source": [
    "## Clean and Prepare Data"
   ]
  },
  {
   "cell_type": "code",
   "execution_count": 118,
   "metadata": {
    "collapsed": true
   },
   "outputs": [],
   "source": [
    "df = df.dropna() # corresponds to 8 entries where age was not recorded\n",
    "df = df.astype(float)"
   ]
  },
  {
   "cell_type": "code",
   "execution_count": 119,
   "metadata": {
    "collapsed": false
   },
   "outputs": [],
   "source": [
    "#print(desc_str)"
   ]
  },
  {
   "cell_type": "markdown",
   "metadata": {},
   "source": [
    "## Get Predictors and Response Class"
   ]
  },
  {
   "cell_type": "markdown",
   "metadata": {},
   "source": [
    "We will split the predictors into two groupings; the clinical predictors will be the 12 predictors that are measured in a clinic without biopsy, the histological predictors will be the predictors that can only be obtained by lesioning the skin. "
   ]
  },
  {
   "cell_type": "code",
   "execution_count": 7,
   "metadata": {
    "collapsed": false
   },
   "outputs": [],
   "source": [
    "# Get the clinical and histological predictors dropping the disease response class var.\n",
    "clinical_predictors = df.columns.tolist()[0:11] + ['Age']\n",
    "histo_predictors = df.columns.tolist()[11:33]\n",
    "\n",
    "# get arrays of the disease class number and the predictor values\n",
    "y = df['Disease'].values\n",
    "X_clinical = df[clinical_predictors]\n",
    "X_histo = df[histo_predictors]"
   ]
  },
  {
   "cell_type": "markdown",
   "metadata": {},
   "source": [
    "## Perform Linear Discriminant Analysis and Cross-Validate"
   ]
  },
  {
   "cell_type": "markdown",
   "metadata": {},
   "source": [
    "Lets build a Linear Discriminant model to attempt to predict the disease class from the clinical and histological predictors. We will use a 10-fold cross-validation since the dataset is small (358 instances)"
   ]
  },
  {
   "cell_type": "code",
   "execution_count": 129,
   "metadata": {
    "collapsed": false
   },
   "outputs": [
    {
     "name": "stdout",
     "output_type": "stream",
     "text": [
      "(Disease Class, Priors) =\n",
      " [(1, 0.31005586592178769), (2, 0.16759776536312848), (3, 0.19832402234636873), (4, 0.13407821229050279), (5, 0.13407821229050279), (6, 0.055865921787709494)]\n",
      "\n",
      "\n",
      "Explained Variance Ratios = \n",
      " [  5.55676824e-01   3.27958506e-01   1.61770913e-01   7.26150954e-02\n",
      "   5.84656267e-02   1.82068651e-02   2.32441510e-03   4.85358819e-04\n",
      "  -9.89306489e-03  -1.96273762e-02  -8.17997891e-02  -8.61833740e-02]\n"
     ]
    }
   ],
   "source": [
    "# shrinkage 'auto' because we don't have that many data points compared with predictors\n",
    "lda = LinearDiscriminantAnalysis(solver='eigen', shrinkage='auto', n_components=3)\n",
    "lda.fit(X_clinical,y)\n",
    "\n",
    "print('(Disease Class, Priors) =\\n', list(zip(range(1,8), lda.priors_)))\n",
    "print('\\n')\n",
    "print('Explained Variance Ratios = \\n', lda.explained_variance_ratio_)"
   ]
  },
  {
   "cell_type": "code",
   "execution_count": 27,
   "metadata": {
    "collapsed": false
   },
   "outputs": [
    {
     "name": "stdout",
     "output_type": "stream",
     "text": [
      "Linear Discriminant Accuracy Using Clinical Markers =  0.824750601995\n"
     ]
    }
   ],
   "source": [
    "lda_accuracy = np.mean(cross_val_score(lda, X_clinical, y, cv=10))\n",
    "print('LDA Accuracy Using Clinical Predictors = ', lda_accuracy)"
   ]
  },
  {
   "cell_type": "code",
   "execution_count": 28,
   "metadata": {
    "collapsed": false
   },
   "outputs": [
    {
     "name": "stdout",
     "output_type": "stream",
     "text": [
      "Linear Discriminant Accuracy Using Histological Markers =  0.938691090471\n"
     ]
    }
   ],
   "source": [
    "lda_accuracy = np.mean(cross_val_score(lda, X_histo, y, cv=10))\n",
    "print('LDA Accuracy Using Histological Predictors = ', lda_accuracy)"
   ]
  },
  {
   "cell_type": "markdown",
   "metadata": {},
   "source": [
    "## LDA Results"
   ]
  },
  {
   "cell_type": "markdown",
   "metadata": {},
   "source": [
    "Using the clinical markers only, the LDA model correctly predicts 82% of the disease categories. Including the histological markers the correct predictions rise to 94%. We will use the 94% accuracy as a benchmark for non-linear models shortly."
   ]
  },
  {
   "cell_type": "markdown",
   "metadata": {},
   "source": [
    "## Project Clinical Data onto Largest LDA Components"
   ]
  },
  {
   "cell_type": "markdown",
   "metadata": {},
   "source": [
    "In LDA we are maximizing the between class variance relative to the within class variance. The eignevectors are the directions in the predictor space that accomplish this maximization. The corresponding eigenvalues give the amount of variance each component accounts for. In the explained variance ratio calculation above sklearn calculated $\\frac{\\lambda_i}{\\sum{\\lambda_i}}$ for each eigenvalue $\\lambda_i$. There are three relatively large eigenvalues. We can therefore try to project the data onto the three associated eigenvectors to visualize the disease class separations."
   ]
  },
  {
   "cell_type": "code",
   "execution_count": 131,
   "metadata": {
    "collapsed": true
   },
   "outputs": [],
   "source": [
    "# Transform the clinical data onto three largest eigenvectors\n",
    "X_r = lda.fit_transform(X_clinical, y)"
   ]
  },
  {
   "cell_type": "code",
   "execution_count": 134,
   "metadata": {
    "collapsed": false
   },
   "outputs": [
    {
     "data": {
      "image/png": "[encoded data removed]",
      "text/plain": [
       "<matplotlib.figure.Figure at 0x7ffb1395f7b8>"
      ]
     },
     "metadata": {},
     "output_type": "display_data"
    }
   ],
   "source": [
    "# Make a list of the disease names for the plot legend\n",
    "disease_names = ['psoriasis', 'seboreic dermatitis', 'lichen planus', 'pityriasis rosea',\n",
    "                'cronic dermatitis', 'pityriasis rubra pilaris']\n",
    "# create a color for each disease class\n",
    "colors = ['red', 'turquoise', 'darkorange', 'purple', 'green', 'black']\n",
    "# Create a 3d plot to visualize the classes in the LDA reduced space\n",
    "fig = plt.figure(figsize=(12,8))\n",
    "ax3D = fig.add_subplot(111, projection='3d')\n",
    "# scatter each of the diseases in the reduced LDA space\n",
    "for color, disease_num, disease_name in zip(colors, list(range(1,7)), disease_names):\n",
    "    ax3D.scatter(X_r[y == disease_num, 0], X_r[y == disease_num, 1],\n",
    "                 X_r[y == disease_num, 2], c=color, s=50, alpha=1, \n",
    "                 edgecolor='k', label=disease_name, depthshade=False);\n",
    "    \n",
    "ax3D.view_init(elev=30,azim=60)\n",
    "ax3D.set_xlabel('LDA Comp. 1')\n",
    "ax3D.set_ylabel('LDA Comp. 2')\n",
    "ax3D.set_zlabel('LDA Comp. 3')\n",
    "\n",
    "# Shrink current axis by 20% to create room for an outside ax legend\n",
    "box = ax3D.get_position()\n",
    "ax3D.set_position([box.x0, box.y0, box.width * 0.8, box.height])\n",
    "# Put a legend to the right of the current axis\n",
    "plt.legend(loc='center left', bbox_to_anchor=(1, 0.5), scatterpoints=1)    \n",
    "#plt.legend(loc='best', shadow=False, scatterpoints=1);\n",
    "plt.title('LDA Projection of Dermatology Diseases');"
   ]
  },
  {
   "cell_type": "markdown",
   "metadata": {},
   "source": [
    "The LDA dimensionality reduction shows that several of the disease classes can be easily separated by eye but the dermatitis diseases are still tightly clustered togehter. Our next approach will be to try a non-linear machine learning model -- the Random Forest Classifier."
   ]
  },
  {
   "cell_type": "code",
   "execution_count": null,
   "metadata": {
    "collapsed": true
   },
   "outputs": [],
   "source": []
  }
 ],
 "metadata": {
  "kernelspec": {
   "display_name": "Python 3",
   "language": "python",
   "name": "python3"
  },
  "language_info": {
   "codemirror_mode": {
    "name": "ipython",
    "version": 3
   },
   "file_extension": ".py",
   "mimetype": "text/x-python",
   "name": "python",
   "nbconvert_exporter": "python",
   "pygments_lexer": "ipython3",
   "version": "3.5.2"
  }
 },
 "nbformat": 4,
 "nbformat_minor": 0
}
